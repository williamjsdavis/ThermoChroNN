{
 "cells": [
  {
   "cell_type": "markdown",
   "metadata": {},
   "source": [
    "# Map network test"
   ]
  },
  {
   "cell_type": "code",
   "execution_count": 1,
   "metadata": {},
   "outputs": [],
   "source": [
    "using Flux"
   ]
  },
  {
   "cell_type": "code",
   "execution_count": 105,
   "metadata": {},
   "outputs": [
    {
     "data": {
      "text/plain": [
       "Chain(Dense(1, 4), Dense(4, 1))"
      ]
     },
     "execution_count": 105,
     "metadata": {},
     "output_type": "execute_result"
    }
   ],
   "source": [
    "layer1 = Chain(Dense(1,4),Dense(4,1))"
   ]
  },
  {
   "cell_type": "code",
   "execution_count": 4,
   "metadata": {},
   "outputs": [
    {
     "data": {
      "text/plain": [
       "Params([Float32[-0.25372472; -0.62047327; -1.0928491; 0.64892745], Float32[0.0, 0.0, 0.0, 0.0], Float32[0.74014366 -0.050809667 -0.9748437 0.996483], Float32[0.0]])"
      ]
     },
     "execution_count": 4,
     "metadata": {},
     "output_type": "execute_result"
    }
   ],
   "source": [
    "params(layer1)"
   ]
  },
  {
   "cell_type": "code",
   "execution_count": 22,
   "metadata": {},
   "outputs": [
    {
     "data": {
      "text/plain": [
       "Chain(Chain(Dense(1, 4), Dense(4, 4)), Dense(4, 1))"
      ]
     },
     "execution_count": 22,
     "metadata": {},
     "output_type": "execute_result"
    }
   ],
   "source": [
    "layer2 = Chain(Chain(Dense(1,4),Dense(4,4)),Dense(4,1))"
   ]
  },
  {
   "cell_type": "code",
   "execution_count": 25,
   "metadata": {},
   "outputs": [
    {
     "data": {
      "text/plain": [
       "(Chain(Dense(1, 4), Dense(4, 4)), Dense(4, 1))"
      ]
     },
     "execution_count": 25,
     "metadata": {},
     "output_type": "execute_result"
    }
   ],
   "source": [
    "Flux.trainable(layer2)"
   ]
  },
  {
   "cell_type": "code",
   "execution_count": 57,
   "metadata": {},
   "outputs": [],
   "source": [
    "struct MapIn7{T<:Tuple}\n",
    "    layers::T\n",
    "    MapIn7(xs...) = new{typeof(xs)}(xs)\n",
    "end\n",
    "function Base.show(io::IO, c::MapIn7)\n",
    "  print(io, \"MapIn(\")\n",
    "  join(io, c.layers, \", \")\n",
    "  print(io, \")\")\n",
    "end\n",
    "(a::MapIn7)(x) = broadcast(a.layers[1], x)"
   ]
  },
  {
   "cell_type": "code",
   "execution_count": 106,
   "metadata": {},
   "outputs": [
    {
     "data": {
      "text/plain": [
       "MapIn(Chain(Dense(1, 4), Dense(4, 1)))"
      ]
     },
     "execution_count": 106,
     "metadata": {},
     "output_type": "execute_result"
    }
   ],
   "source": [
    "mapInTestLayer7 = MapIn7(layer1)"
   ]
  },
  {
   "cell_type": "code",
   "execution_count": 6,
   "metadata": {},
   "outputs": [
    {
     "name": "stdout",
     "output_type": "stream",
     "text": [
      "MapIn7{Tuple{Chain{Tuple{Dense{typeof(identity),Array{Float32,2},Array{Float32,1}},Dense{typeof(identity),Array{Float32,2},Array{Float32,1}}}}}}\n",
      "  layers: Tuple{Chain{Tuple{Dense{typeof(identity),Array{Float32,2},Array{Float32,1}},Dense{typeof(identity),Array{Float32,2},Array{Float32,1}}}}}\n",
      "    1: Chain{Tuple{Dense{typeof(identity),Array{Float32,2},Array{Float32,1}},Dense{typeof(identity),Array{Float32,2},Array{Float32,1}}}}\n",
      "      layers: Tuple{Dense{typeof(identity),Array{Float32,2},Array{Float32,1}},Dense{typeof(identity),Array{Float32,2},Array{Float32,1}}}\n",
      "        1: Dense{typeof(identity),Array{Float32,2},Array{Float32,1}}\n",
      "          W: Array{Float32}((4, 1)) Float32[-0.25372472; -0.62047327; -1.0928491; 0.64892745]\n",
      "          b: Array{Float32}((4,)) Float32[0.0, 0.0, 0.0, 0.0]\n",
      "          σ: identity (function of type typeof(identity))\n",
      "        2: Dense{typeof(identity),Array{Float32,2},Array{Float32,1}}\n",
      "          W: Array{Float32}((1, 4)) Float32[0.74014366 -0.050809667 -0.9748437 0.996483]\n",
      "          b: Array{Float32}((1,)) Float32[0.0]\n",
      "          σ: identity (function of type typeof(identity))\n"
     ]
    }
   ],
   "source": [
    "dump(mapInTestLayer7)"
   ]
  },
  {
   "cell_type": "code",
   "execution_count": 63,
   "metadata": {},
   "outputs": [
    {
     "data": {
      "text/plain": [
       "(Chain(Dense(1, 4), Dense(4, 1)),)"
      ]
     },
     "execution_count": 63,
     "metadata": {},
     "output_type": "execute_result"
    }
   ],
   "source": [
    "Flux.trainable(a::MapIn7) = a.layers[1]"
   ]
  },
  {
   "cell_type": "code",
   "execution_count": 28,
   "metadata": {},
   "outputs": [
    {
     "data": {
      "text/plain": [
       "(Chain(Dense(1, 4), Dense(4, 1)),)"
      ]
     },
     "execution_count": 28,
     "metadata": {},
     "output_type": "execute_result"
    }
   ],
   "source": [
    "Flux.trainable(mapInTestLayer7.layers)"
   ]
  },
  {
   "cell_type": "code",
   "execution_count": 29,
   "metadata": {},
   "outputs": [
    {
     "data": {
      "text/plain": [
       "(Chain(Dense(1, 4), Dense(4, 1)),)"
      ]
     },
     "execution_count": 29,
     "metadata": {},
     "output_type": "execute_result"
    }
   ],
   "source": [
    "Flux.trainable(mapInTestLayer7)"
   ]
  },
  {
   "cell_type": "code",
   "execution_count": 99,
   "metadata": {},
   "outputs": [
    {
     "data": {
      "text/plain": [
       "Params([Float32[0.88460606; 0.9629422; 0.7789683; -1.0123527], Float32[0.0, 0.0, 0.0, 0.0], Float32[0.7429254 0.5973324 0.467775 0.029173711], Float32[0.0]])"
      ]
     },
     "execution_count": 99,
     "metadata": {},
     "output_type": "execute_result"
    }
   ],
   "source": [
    "params(mapInTestLayer7)"
   ]
  },
  {
   "cell_type": "code",
   "execution_count": 103,
   "metadata": {},
   "outputs": [
    {
     "data": {
      "text/plain": [
       "1-element Array{Float32,1}:\n",
       " 0.15557355"
      ]
     },
     "execution_count": 103,
     "metadata": {},
     "output_type": "execute_result"
    }
   ],
   "source": [
    "layer1([0.1])"
   ]
  },
  {
   "cell_type": "code",
   "execution_count": 107,
   "metadata": {},
   "outputs": [
    {
     "data": {
      "text/plain": [
       "1-element Array{Float32,1}:\n",
       " 0.10786706"
      ]
     },
     "execution_count": 107,
     "metadata": {},
     "output_type": "execute_result"
    }
   ],
   "source": [
    "mapInTestLayer7.layers[1]([0.2])"
   ]
  },
  {
   "cell_type": "code",
   "execution_count": 108,
   "metadata": {},
   "outputs": [
    {
     "data": {
      "text/plain": [
       "2-element Array{Array{Float32,1},1}:\n",
       " [0.05393353]\n",
       " [0.10786706]"
      ]
     },
     "execution_count": 108,
     "metadata": {},
     "output_type": "execute_result"
    }
   ],
   "source": [
    "mapInTestLayer7([[0.1],[0.2]])"
   ]
  },
  {
   "cell_type": "code",
   "execution_count": 88,
   "metadata": {},
   "outputs": [],
   "source": [
    "struct MapIn6{T<:Tuple}\n",
    "    layers::T\n",
    "    MapIn6(xs...) = new{typeof(xs)}(xs)\n",
    "end\n",
    "function Base.show(io::IO, c::MapIn6)\n",
    "  print(io, \"MapIn(\")\n",
    "  join(io, c.layers, \", \")\n",
    "  print(io, \")\")\n",
    "end\n",
    "applychain(::Tuple{}, x) = x\n",
    "applychain(fs::Tuple, x) = applychain(Base.tail(fs), first(fs)(x))\n",
    "(a::MapIn6)(x) = broadcast(y -> applychain(a.layers, y), x)"
   ]
  },
  {
   "cell_type": "code",
   "execution_count": 102,
   "metadata": {},
   "outputs": [
    {
     "data": {
      "text/plain": [
       "MapIn(Dense(1, 4), Dense(4, 1))"
      ]
     },
     "execution_count": 102,
     "metadata": {},
     "output_type": "execute_result"
    }
   ],
   "source": [
    "mapInTestLayer7 = MapIn7(Dense(1,4),Dense(4,1))\n",
    "mapInTestLayer6 = MapIn6(Dense(1,4),Dense(4,1))"
   ]
  },
  {
   "cell_type": "code",
   "execution_count": 95,
   "metadata": {},
   "outputs": [
    {
     "data": {
      "text/plain": [
       "1-element Array{Array{Float32,1},1}:\n",
       " [0.15775701]"
      ]
     },
     "execution_count": 95,
     "metadata": {},
     "output_type": "execute_result"
    }
   ],
   "source": [
    "mapInTestLayer6([[0.1]])"
   ]
  },
  {
   "cell_type": "code",
   "execution_count": 97,
   "metadata": {},
   "outputs": [
    {
     "data": {
      "text/plain": [
       "2-element Array{Array{Float32,1},1}:\n",
       " [0.15775701]\n",
       " [0.31551403]"
      ]
     },
     "execution_count": 97,
     "metadata": {},
     "output_type": "execute_result"
    }
   ],
   "source": [
    "mapInTestLayer6([[0.1],[0.2]])"
   ]
  },
  {
   "cell_type": "code",
   "execution_count": 114,
   "metadata": {},
   "outputs": [
    {
     "data": {
      "text/plain": [
       "()"
      ]
     },
     "execution_count": 114,
     "metadata": {},
     "output_type": "execute_result"
    }
   ],
   "source": [
    "Flux.trainable(mapInTestLayer6)"
   ]
  },
  {
   "cell_type": "code",
   "execution_count": 118,
   "metadata": {},
   "outputs": [],
   "source": [
    "Flux.trainable(a::MapIn6) = a.layers"
   ]
  },
  {
   "cell_type": "code",
   "execution_count": 119,
   "metadata": {},
   "outputs": [
    {
     "data": {
      "text/plain": [
       "(Dense(1, 4), Dense(4, 1))"
      ]
     },
     "execution_count": 119,
     "metadata": {},
     "output_type": "execute_result"
    }
   ],
   "source": [
    "Flux.trainable(mapInTestLayer6)"
   ]
  },
  {
   "cell_type": "code",
   "execution_count": 120,
   "metadata": {},
   "outputs": [
    {
     "data": {
      "text/plain": [
       "Params([Float32[-0.93995047; 0.37457904; 0.89388585; -1.0370347], Float32[0.0, 0.0, 0.0, 0.0], Float32[0.6878967 0.810748 0.81012404 -0.95457655], Float32[0.0]])"
      ]
     },
     "execution_count": 120,
     "metadata": {},
     "output_type": "execute_result"
    }
   ],
   "source": [
    "params(mapInTestLayer6)"
   ]
  },
  {
   "cell_type": "code",
   "execution_count": 158,
   "metadata": {},
   "outputs": [
    {
     "data": {
      "text/plain": [
       "2-element Array{Array{Float32,1},1}:\n",
       " [0.13711879]\n",
       " [0.27423757]"
      ]
     },
     "execution_count": 158,
     "metadata": {},
     "output_type": "execute_result"
    }
   ],
   "source": [
    "mapInTestLayer6([[0.1],[0.2]])"
   ]
  },
  {
   "cell_type": "code",
   "execution_count": 190,
   "metadata": {},
   "outputs": [
    {
     "data": {
      "text/plain": [
       "2-element Array{Float32,1}:\n",
       " 0.13711879\n",
       " 0.27423757"
      ]
     },
     "execution_count": 190,
     "metadata": {},
     "output_type": "execute_result"
    }
   ],
   "source": [
    "#(a::MapIn6)(x::Array{Float32,1}) = a(map(y -> [y], x))\n",
    "(a::MapIn6)(x::Array{Float32,1}) = broadcast(first, a(map(y -> [y], x)))\n",
    "mapInTestLayer6([Float32(0.1), Float32(0.2)])"
   ]
  },
  {
   "cell_type": "code",
   "execution_count": 191,
   "metadata": {},
   "outputs": [
    {
     "name": "stdout",
     "output_type": "stream",
     "text": [
      "Array{Array{Float64,1},1}\n",
      "Array{Float64,1}\n",
      "Array{Float32,1}\n"
     ]
    }
   ],
   "source": [
    "println(typeof([[0.1],[0.2]]))\n",
    "println(typeof([0.1, 0.2]))\n",
    "println(typeof([Float32(0.1), Float32(0.2)]))"
   ]
  },
  {
   "cell_type": "markdown",
   "metadata": {},
   "source": [
    "## Training test"
   ]
  },
  {
   "cell_type": "code",
   "execution_count": 954,
   "metadata": {},
   "outputs": [],
   "source": [
    "using Plots\n",
    "pyplot();"
   ]
  },
  {
   "cell_type": "code",
   "execution_count": 955,
   "metadata": {},
   "outputs": [],
   "source": [
    "struct MapIn{T<:Tuple}\n",
    "    layers::T\n",
    "    MapIn(xs...) = new{typeof(xs)}(xs)\n",
    "end\n",
    "applychain(::Tuple{}, x) = x\n",
    "applychain(fs::Tuple, x) = applychain(Base.tail(fs), first(fs)(x))\n",
    "(a::MapIn)(x) = broadcast(y -> applychain(a.layers, y), x)\n",
    "(a::MapIn)(x::Array{Float32,1}) = broadcast(first, a(map(y -> [y], x)))\n",
    "Flux.trainable(a::MapIn) = a.layers"
   ]
  },
  {
   "cell_type": "code",
   "execution_count": 956,
   "metadata": {},
   "outputs": [],
   "source": [
    "function trueTemperatureFun(t::Real)\n",
    "  intc = Float32(100)\n",
    "  midp = Float32(50)\n",
    "  grad = Float32(8/5)\n",
    "  Float32(intc - grad*abs(t - midp))\n",
    "end\n",
    "function range32(start::Real, stop::Real, step::Real)\n",
    "  # Float32 type StepRangeLen\n",
    "  res = range(Float32(start), stop=Float32(stop), step = Float32(step))\n",
    "  return StepRangeLen{Float32,Float32,Float32}(res)\n",
    "end;"
   ]
  },
  {
   "cell_type": "code",
   "execution_count": 957,
   "metadata": {},
   "outputs": [
    {
     "data": {
      "text/plain": [
       "10-element Array{Float32,1}:\n",
       " 20.159996\n",
       " 28.479996\n",
       " 44.8\n",
       " 60.8\n",
       " 83.840004\n",
       " 92.479996\n",
       " 91.2\n",
       " 75.2\n",
       " 36.159996\n",
       " 20.799995"
      ]
     },
     "execution_count": 957,
     "metadata": {},
     "output_type": "execute_result"
    }
   ],
   "source": [
    "tDomain = Float32[0.1, 5.3, 15.5, 25.5, 39.9, 45.3, 55.5, 65.5, 89.9, 99.5]\n",
    "tempData = trueTemperatureFun.(tDomain)"
   ]
  },
  {
   "cell_type": "code",
   "execution_count": 958,
   "metadata": {},
   "outputs": [
    {
     "data": {
      "image/png": "[encoded data removed]"
     },
     "execution_count": 958,
     "metadata": {},
     "output_type": "execute_result"
    }
   ],
   "source": [
    "tforPlot = collect(range32(0, 100, 0.1))\n",
    "trueTemperature = trueTemperatureFun.(tforPlot)\n",
    "  plot(tforPlot, trueTemperature,\n",
    "    label = \"True\",\n",
    "    xmirror=true)\n",
    "  scatter!(tDomain, tempData, markersize = 10, label = \"Data\")\n",
    "  plot!(xaxis = (\"Time, Ma\", :flip))\n",
    "  plot!(yaxis = (\"Temperature, °C\", :flip))"
   ]
  },
  {
   "cell_type": "markdown",
   "metadata": {},
   "source": [
    "#### Making network"
   ]
  },
  {
   "cell_type": "code",
   "execution_count": 959,
   "metadata": {},
   "outputs": [
    {
     "data": {
      "text/plain": [
       "Base.Iterators.Take{Base.Iterators.Repeated{Tuple{Array{Float32,1},Array{Float32,1}}}}(Base.Iterators.Repeated{Tuple{Array{Float32,1},Array{Float32,1}}}((Float32[0.1, 5.3, 15.5, 25.5, 39.9, 45.3, 55.5, 65.5, 89.9, 99.5], Float32[20.159996, 28.479996, 44.8, 60.8, 83.840004, 92.479996, 91.2, 75.2, 36.159996, 20.799995])), 10000)"
      ]
     },
     "execution_count": 959,
     "metadata": {},
     "output_type": "execute_result"
    }
   ],
   "source": [
    "#data = [(tDomain, tempData)]\n",
    "data = Iterators.repeated((tDomain, tempData), 10000)"
   ]
  },
  {
   "cell_type": "code",
   "execution_count": 960,
   "metadata": {},
   "outputs": [
    {
     "data": {
      "text/plain": [
       "MapIn{Tuple{Chain{Tuple{Dense{typeof(gelu),Array{Float32,2},Array{Float32,1}},Dense{typeof(gelu),Array{Float32,2},Array{Float32,1}},Dense{typeof(identity),Array{Float32,2},Array{Float32,1}},typeof(+)}}}}"
      ]
     },
     "execution_count": 960,
     "metadata": {},
     "output_type": "execute_result"
    }
   ],
   "source": [
    "temperatureNet = Chain(\n",
    "    Dense(1, 16, gelu),\n",
    "    Dense(16, 32, gelu),\n",
    "    Dense(32, 64),\n",
    "    +)\n",
    "temperatureMap = MapIn(temperatureNet)\n",
    "typeof(temperatureMap)"
   ]
  },
  {
   "cell_type": "code",
   "execution_count": 961,
   "metadata": {},
   "outputs": [
    {
     "data": {
      "text/plain": [
       "MapIn{Tuple{Chain{Tuple{Dense{typeof(gelu),Array{Float32,2},Array{Float32,1}},Dense{typeof(gelu),Array{Float32,2},Array{Float32,1}},Dense{typeof(identity),Array{Float32,2},Array{Float32,1}},typeof(+)}}}}((Chain(Dense(1, 16, gelu), Dense(16, 32, gelu), Dense(32, 64), +),))"
      ]
     },
     "execution_count": 961,
     "metadata": {},
     "output_type": "execute_result"
    }
   ],
   "source": [
    "p, re = Flux.destructure(temperatureNet)\n",
    "p[p.!=0.0] = Float32.(0.5*randn(sum(p.!=0.0)))\n",
    "p[p.==0.0] = (50.0 .+ Float32.(10.0*randn(sum(p.==0.0))))\n",
    "temperatureNet = re(p)\n",
    "temperatureMap = MapIn(temperatureNet)"
   ]
  },
  {
   "cell_type": "code",
   "execution_count": 962,
   "metadata": {},
   "outputs": [
    {
     "data": {
      "text/plain": [
       "10-element Array{Float32,1}:\n",
       " 399.1277\n",
       " 400.02893\n",
       " 405.3698\n",
       " 401.78198\n",
       " 386.585\n",
       " 384.1199\n",
       " 378.9524\n",
       " 382.8756\n",
       " 384.6387\n",
       " 385.38446"
      ]
     },
     "execution_count": 962,
     "metadata": {},
     "output_type": "execute_result"
    }
   ],
   "source": [
    "initialEstAll = temperatureMap(tforPlot)\n",
    "initialEst = temperatureMap(tDomain)"
   ]
  },
  {
   "cell_type": "code",
   "execution_count": 963,
   "metadata": {},
   "outputs": [
    {
     "data": {
      "text/plain": [
       "Params([Float32[0.5587507; 0.2188728; … ; -0.34791917; 0.23133956], Float32[48.663906, 55.21605, 43.642014, 49.838047, 73.65458, 49.794823, 46.44229, 55.091885, 61.08917, 58.82878, 42.110092, 30.231644, 40.709755, 58.78464, 44.83268, 44.001152], Float32[0.21515167 0.4047362 … -0.46685985 -0.39038825; -1.1651766 0.398652 … 0.09785674 -0.28344733; … ; -0.17807537 0.37975794 … 0.5490764 -0.5740986; -0.78768134 -0.7537169 … -0.13597544 -0.15581346], Float32[33.92811, 64.33731, 54.760574, 47.6862, 57.638374, 65.48528, 45.816395, 34.100388, 40.92769, 48.541977  …  66.825615, 43.25918, 59.391125, 51.24578, 43.455963, 41.2851, 58.052746, 45.98208, 68.3352, 65.57631], Float32[-0.34919986 1.015037 … -0.054300837 0.5711686; 0.6096355 -0.29614767 … -0.074211955 0.011038453; … ; -0.17847337 -0.11879905 … -0.041883867 -0.65088016; 0.3232529 0.5583725 … -0.079841435 -0.075224265], Float32[56.03857, 43.07161, 48.40487, 50.49785, 47.751465, 50.139053, 29.805407, 41.525, 48.108967, 52.278843  …  37.825386, 58.723755, 45.797077, 63.97118, 53.71789, 34.04706, 40.981747, 64.07193, 41.771156, 43.51895]])"
      ]
     },
     "execution_count": 963,
     "metadata": {},
     "output_type": "execute_result"
    }
   ],
   "source": [
    "parameters = params(temperatureMap)"
   ]
  },
  {
   "cell_type": "code",
   "execution_count": 964,
   "metadata": {},
   "outputs": [
    {
     "data": {
      "text/plain": [
       "loss (generic function with 1 method)"
      ]
     },
     "execution_count": 964,
     "metadata": {},
     "output_type": "execute_result"
    }
   ],
   "source": [
    "loss(x, y) = Flux.mae(temperatureMap(x), y)"
   ]
  },
  {
   "cell_type": "code",
   "execution_count": 965,
   "metadata": {},
   "outputs": [
    {
     "data": {
      "text/plain": [
       "0.0f0"
      ]
     },
     "execution_count": 965,
     "metadata": {},
     "output_type": "execute_result"
    }
   ],
   "source": [
    "Flux.mae(tempData, tempData)"
   ]
  },
  {
   "cell_type": "code",
   "execution_count": 966,
   "metadata": {},
   "outputs": [
    {
     "data": {
      "text/plain": [
       "#190 (generic function with 1 method)"
      ]
     },
     "execution_count": 966,
     "metadata": {},
     "output_type": "execute_result"
    }
   ],
   "source": [
    "opt = ADAM(0.01)\n",
    "evalcb = () -> println(loss(data.xs.x...))"
   ]
  },
  {
   "cell_type": "code",
   "execution_count": 967,
   "metadata": {},
   "outputs": [
    {
     "name": "stdout",
     "output_type": "stream",
     "text": [
      "231.65453\n",
      "3.6557662\n",
      "4.7021556\n",
      "2.4573953\n",
      "0.95882076\n",
      "1.0155915\n",
      "0.3720928\n",
      "0.49902764\n",
      "1.0618908\n",
      "1.1456766\n",
      "1.0263716\n"
     ]
    }
   ],
   "source": [
    "Flux.train!(loss, parameters, data, opt, cb = Flux.throttle(evalcb, 1))"
   ]
  },
  {
   "cell_type": "code",
   "execution_count": 968,
   "metadata": {},
   "outputs": [
    {
     "data": {
      "text/plain": [
       "10-element Array{Float32,1}:\n",
       " 19.656494\n",
       " 28.054422\n",
       " 44.529778\n",
       " 60.681976\n",
       " 83.94167\n",
       " 92.53023\n",
       " 90.94135\n",
       " 74.811104\n",
       " 35.734818\n",
       " 21.12149"
      ]
     },
     "execution_count": 968,
     "metadata": {},
     "output_type": "execute_result"
    }
   ],
   "source": [
    "finalEstAll = temperatureMap(tforPlot)\n",
    "finalEst = temperatureMap(tDomain)"
   ]
  },
  {
   "cell_type": "code",
   "execution_count": 969,
   "metadata": {},
   "outputs": [
    {
     "data": {
      "image/png": "[encoded data removed]"
     },
     "execution_count": 969,
     "metadata": {},
     "output_type": "execute_result"
    }
   ],
   "source": [
    "plot(tforPlot, trueTemperature,\n",
    "    label = \"True\",\n",
    "    xmirror=true)\n",
    "scatter!(tDomain, tempData, markersize = 10, label = \"Data\")\n",
    "plot!(tforPlot, initialEstAll, color = \"green\", label = \"Original\")\n",
    "scatter!(tDomain, initialEst, markersize = 10, color = \"green\", label = \"\")\n",
    "plot!(tforPlot, finalEstAll, color = \"red\", label = \"Final\")\n",
    "scatter!(tDomain, finalEst, markersize = 10, color = \"red\", label = \"\")\n",
    "plot!(xaxis = (\"Time, Ma\", :flip))\n",
    "plot!(yaxis = (\"Temperature, °C\", :flip))"
   ]
  },
  {
   "cell_type": "code",
   "execution_count": null,
   "metadata": {},
   "outputs": [],
   "source": []
  }
 ],
 "metadata": {
  "kernelspec": {
   "display_name": "Julia 1.4.1",
   "language": "julia",
   "name": "julia-1.4"
  },
  "language_info": {
   "file_extension": ".jl",
   "mimetype": "application/julia",
   "name": "julia",
   "version": "1.4.1"
  }
 },
 "nbformat": 4,
 "nbformat_minor": 4
}
