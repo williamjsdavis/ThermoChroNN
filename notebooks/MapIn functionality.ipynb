{
 "cells": [
  {
   "cell_type": "markdown",
   "metadata": {},
   "source": [
    "# MapIn functionality"
   ]
  },
  {
   "cell_type": "code",
   "execution_count": 1,
   "metadata": {},
   "outputs": [],
   "source": [
    "using Flux"
   ]
  },
  {
   "cell_type": "code",
   "execution_count": 82,
   "metadata": {},
   "outputs": [],
   "source": [
    "struct MapIn{T<:Tuple}\n",
    "    layers::T\n",
    "    MapIn(xs...) = new{typeof(xs)}(xs)\n",
    "end\n",
    "applychain(::Tuple{}, x) = x\n",
    "applychain(fs::Tuple, x) = applychain(Base.tail(fs), first(fs)(x))\n",
    "(a::MapIn)(x) = broadcast(y -> applychain(a.layers, y), x)\n",
    "(a::MapIn)(x::Array{Float32,1}) = broadcast(first, a(map(y -> [y], x)))\n",
    "Flux.trainable(a::MapIn) = a.layers\n"
   ]
  },
  {
   "cell_type": "code",
   "execution_count": 119,
   "metadata": {},
   "outputs": [],
   "source": [
    "#@forward Chain.layers Base.getindex, Base.length, Base.first, Base.last, Base.iterate, Base.lastindex\n",
    "Base.getindex(x::MapIn, args...) = Base.getindex(x.layers)\n",
    "Base.length(x::MapIn, args...) = Base.length(x.layers)\n",
    "Base.first(x::MapIn, args...) = Base.first(x.layers)\n",
    "Base.last(x::MapIn, args...) = Base.last(x.layers)\n",
    "Base.iterate(x::MapIn, args...) = Base.iterate(x.layers)\n",
    "Base.lastindex(x::MapIn, args...) = Base.lastindex(x.layers)"
   ]
  },
  {
   "cell_type": "code",
   "execution_count": 118,
   "metadata": {},
   "outputs": [
    {
     "name": "stdout",
     "output_type": "stream",
     "text": [
      "2\n",
      "1\n",
      "2\n"
     ]
    }
   ],
   "source": [
    "println(length(Chain(Dense(1,4),Dense(4,1))))\n",
    "println(length(MapIn(Chain(Dense(1,4),Dense(4,1)))))\n",
    "println(length(MapIn(Dense(1,4),Dense(4,1))))"
   ]
  },
  {
   "cell_type": "markdown",
   "metadata": {},
   "source": [
    "## Testing single input map"
   ]
  },
  {
   "cell_type": "code",
   "execution_count": 83,
   "metadata": {},
   "outputs": [],
   "source": [
    "layerExample1 = Chain(Dense(1, 4), Dense(4, 1))\n",
    "layerExample2 = Chain(Dense(1, 4), Dense(4, 4), Dense(4, 1))\n",
    "layerExample3 = Chain(Chain(Dense(1, 4), Dense(4, 4)), Dense(4, 4), Dense(4, 1))\n",
    "layerExample4 = (Dense(1,4), Dense(4,1))\n",
    "layerExample5 = (Chain(Dense(1, 4), Dense(4, 4)), Dense(4,1));"
   ]
  },
  {
   "cell_type": "code",
   "execution_count": 84,
   "metadata": {},
   "outputs": [],
   "source": [
    "mapExample1 = MapIn(layerExample1)\n",
    "mapExample2 = MapIn(layerExample2)\n",
    "mapExample3 = MapIn(layerExample3)\n",
    "mapExample4 = MapIn(layerExample4...)\n",
    "mapExample5 = MapIn(layerExample5...);"
   ]
  },
  {
   "cell_type": "code",
   "execution_count": 86,
   "metadata": {},
   "outputs": [
    {
     "data": {
      "text/plain": [
       "2-element Array{Array{Float32,1},1}:\n",
       " [10.0]\n",
       " [150.0]"
      ]
     },
     "execution_count": 86,
     "metadata": {},
     "output_type": "execute_result"
    }
   ],
   "source": [
    "testInput = [Float32[10.0], Float32[150.0]]"
   ]
  },
  {
   "cell_type": "code",
   "execution_count": 87,
   "metadata": {},
   "outputs": [
    {
     "name": "stdout",
     "output_type": "stream",
     "text": [
      "Array{Float32,1}[[13.179995], [197.69992]]\n",
      "Array{Float32,1}[[-0.22761732], [-3.4142616]]\n",
      "Array{Float32,1}[[4.955084], [74.32627]]\n",
      "Array{Float32,1}[[4.214313], [63.214706]]\n",
      "Array{Float32,1}[[-0.04624009], [-0.6935978]]\n"
     ]
    }
   ],
   "source": [
    "println(layerExample1.(testInput))\n",
    "println(layerExample2.(testInput))\n",
    "println(layerExample3.(testInput))\n",
    "println(Chain(layerExample4...).(testInput))\n",
    "println(Chain(layerExample5...).(testInput))"
   ]
  },
  {
   "cell_type": "code",
   "execution_count": 88,
   "metadata": {},
   "outputs": [
    {
     "name": "stdout",
     "output_type": "stream",
     "text": [
      "Array{Float32,1}[[13.179995], [197.69992]]\n",
      "Array{Float32,1}[[-0.22761732], [-3.4142616]]\n",
      "Array{Float32,1}[[4.955084], [74.32627]]\n",
      "Array{Float32,1}[[4.214313], [63.214706]]\n",
      "Array{Float32,1}[[-0.04624009], [-0.6935978]]\n"
     ]
    }
   ],
   "source": [
    "println(mapExample1(testInput))\n",
    "println(mapExample2(testInput))\n",
    "println(mapExample3(testInput))\n",
    "println(mapExample4(testInput))\n",
    "println(mapExample5(testInput))"
   ]
  },
  {
   "cell_type": "code",
   "execution_count": 89,
   "metadata": {},
   "outputs": [
    {
     "name": "stdout",
     "output_type": "stream",
     "text": [
      "Params([Float32[-1.0064486; -0.93504226; -0.8504779; 0.72340864], Float32[0.0, 0.0, 0.0, 0.0], Float32[-1.0804373 0.3765047 -0.31961435 0.4296571], Float32[0.0]])\n",
      "Params([Float32[-0.19757561; -0.56147265; -0.91904217; 0.5786279], Float32[0.0, 0.0, 0.0, 0.0], Float32[0.047808196 -0.6531654 0.15053648 0.7152996; 0.28748927 0.3779386 0.091013 0.5178525; -0.17343782 0.09136649 -0.07390766 -0.742634; 0.6729056 -0.828108 0.76132566 0.5507739], Float32[0.0, 0.0, 0.0, 0.0], Float32[0.1832609 -0.21096186 0.42679384 -0.24006322], Float32[0.0]])\n",
      "Params([Float32[0.2938482; -0.10416369; 0.34470356; 0.85389453], Float32[0.0, 0.0, 0.0, 0.0], Float32[-0.77527004 0.55330014 0.8563348 0.6562407; -0.31134906 0.23269184 -0.68226826 -0.10193954; 0.19654316 -0.4510282 0.30097693 -0.8477545; -0.76206505 0.59767276 0.08153965 -0.30116215], Float32[0.0, 0.0, 0.0, 0.0], Float32[0.79407823 -0.17102307 0.35262477 0.46181247; -0.7917516 0.31127062 0.12796839 -0.7307273; 0.29722732 -0.19282556 0.13755983 0.25414476; 0.28755307 0.71594876 0.2697139 -0.005647959], Float32[0.0, 0.0, 0.0, 0.0], Float32[0.24090578 -0.918933 0.5161361 -0.6578489], Float32[0.0]])\n",
      "Params([Float32[-0.59307945; -0.8563859; -1.0887207; -1.0856098], Float32[0.0, 0.0, 0.0, 0.0], Float32[-0.32494703 1.0580975 -1.0916059 0.049375296], Float32[0.0]])\n",
      "Params([Float32[0.17089456; -0.19228815; -0.23381254; 0.19589835], Float32[0.0, 0.0, 0.0, 0.0], Float32[-0.52798367 -0.79254186 -0.2867794 -0.72606546; -0.25395212 0.2094465 0.09531886 0.031927466; -0.4953552 0.63548154 -0.3491287 0.72969866; 0.82984245 0.23545222 -0.3263746 0.33364254], Float32[0.0, 0.0, 0.0, 0.0], Float32[-0.37615106 -1.0162388 0.72011 -0.51891136], Float32[0.0]])\n"
     ]
    }
   ],
   "source": [
    "println(params(layerExample1))\n",
    "println(params(layerExample2))\n",
    "println(params(layerExample3))\n",
    "println(params(layerExample4))\n",
    "println(params(layerExample5))"
   ]
  },
  {
   "cell_type": "code",
   "execution_count": 90,
   "metadata": {},
   "outputs": [
    {
     "name": "stdout",
     "output_type": "stream",
     "text": [
      "Params([Float32[-1.0064486; -0.93504226; -0.8504779; 0.72340864], Float32[0.0, 0.0, 0.0, 0.0], Float32[-1.0804373 0.3765047 -0.31961435 0.4296571], Float32[0.0]])\n",
      "Params([Float32[-0.19757561; -0.56147265; -0.91904217; 0.5786279], Float32[0.0, 0.0, 0.0, 0.0], Float32[0.047808196 -0.6531654 0.15053648 0.7152996; 0.28748927 0.3779386 0.091013 0.5178525; -0.17343782 0.09136649 -0.07390766 -0.742634; 0.6729056 -0.828108 0.76132566 0.5507739], Float32[0.0, 0.0, 0.0, 0.0], Float32[0.1832609 -0.21096186 0.42679384 -0.24006322], Float32[0.0]])\n",
      "Params([Float32[0.2938482; -0.10416369; 0.34470356; 0.85389453], Float32[0.0, 0.0, 0.0, 0.0], Float32[-0.77527004 0.55330014 0.8563348 0.6562407; -0.31134906 0.23269184 -0.68226826 -0.10193954; 0.19654316 -0.4510282 0.30097693 -0.8477545; -0.76206505 0.59767276 0.08153965 -0.30116215], Float32[0.0, 0.0, 0.0, 0.0], Float32[0.79407823 -0.17102307 0.35262477 0.46181247; -0.7917516 0.31127062 0.12796839 -0.7307273; 0.29722732 -0.19282556 0.13755983 0.25414476; 0.28755307 0.71594876 0.2697139 -0.005647959], Float32[0.0, 0.0, 0.0, 0.0], Float32[0.24090578 -0.918933 0.5161361 -0.6578489], Float32[0.0]])\n",
      "Params([Float32[-0.59307945; -0.8563859; -1.0887207; -1.0856098], Float32[0.0, 0.0, 0.0, 0.0], Float32[-0.32494703 1.0580975 -1.0916059 0.049375296], Float32[0.0]])\n",
      "Params([Float32[0.17089456; -0.19228815; -0.23381254; 0.19589835], Float32[0.0, 0.0, 0.0, 0.0], Float32[-0.52798367 -0.79254186 -0.2867794 -0.72606546; -0.25395212 0.2094465 0.09531886 0.031927466; -0.4953552 0.63548154 -0.3491287 0.72969866; 0.82984245 0.23545222 -0.3263746 0.33364254], Float32[0.0, 0.0, 0.0, 0.0], Float32[-0.37615106 -1.0162388 0.72011 -0.51891136], Float32[0.0]])\n"
     ]
    }
   ],
   "source": [
    "println(params(mapExample1))\n",
    "println(params(mapExample2))\n",
    "println(params(mapExample3))\n",
    "println(params(mapExample4))\n",
    "println(params(mapExample5))"
   ]
  },
  {
   "cell_type": "markdown",
   "metadata": {},
   "source": [
    "## Testing multiple input map"
   ]
  },
  {
   "cell_type": "code",
   "execution_count": 91,
   "metadata": {},
   "outputs": [],
   "source": [
    "layerExample6 = Chain(Dense(2, 4), Dense(4, 3))\n",
    "layerExample7 = Chain(Dense(2, 4), Dense(4, 4), Dense(4, 3))\n",
    "layerExample8 = Chain(Chain(Dense(2, 4), Dense(4, 4)), Dense(4, 4), Dense(4, 3))\n",
    "layerExample9 = (Dense(2,4), Dense(4,3));"
   ]
  },
  {
   "cell_type": "code",
   "execution_count": 92,
   "metadata": {},
   "outputs": [],
   "source": [
    "mapExample6 = MapIn(layerExample6)\n",
    "mapExample7 = MapIn(layerExample7)\n",
    "mapExample8 = MapIn(layerExample8)\n",
    "mapExample9 = MapIn(layerExample9...);"
   ]
  },
  {
   "cell_type": "code",
   "execution_count": 93,
   "metadata": {},
   "outputs": [
    {
     "name": "stdout",
     "output_type": "stream",
     "text": [
      "Array{Float32,1}[[10.0, 150.0], [10.0, 90.0]]\n",
      "Float32[10.0, 90.0]\n"
     ]
    }
   ],
   "source": [
    "testInput2 = [Float32[10.0, 150.0], Float32[10.0, 90.0]]\n",
    "println(testInput2)\n",
    "println(testInput2[2])"
   ]
  },
  {
   "cell_type": "code",
   "execution_count": 95,
   "metadata": {},
   "outputs": [
    {
     "name": "stdout",
     "output_type": "stream",
     "text": [
      "Float32[47.735157, -32.752495, -11.39335]\n",
      "Float32[0.7560291, 23.671745, 80.52094]\n",
      "Float32[-8.827183, -47.86567, -75.4666]\n",
      "Float32[-31.583313, 29.015354, -14.199995]\n"
     ]
    }
   ],
   "source": [
    "println(layerExample6(testInput2[2]))\n",
    "println(layerExample7(testInput2[2]))\n",
    "println(layerExample8(testInput2[2]))\n",
    "println(Chain(layerExample9...)(testInput2[2]))"
   ]
  },
  {
   "cell_type": "code",
   "execution_count": 96,
   "metadata": {},
   "outputs": [
    {
     "name": "stdout",
     "output_type": "stream",
     "text": [
      "Array{Float32,1}[[81.01882, -51.16385, -14.6287565], [47.735157, -32.752495, -11.39335]]\n",
      "Array{Float32,1}[[1.7693024, 42.105507, 133.95842], [0.7560291, 23.671745, 80.52094]]\n",
      "Array{Float32,1}[[-11.751091, -90.60091, -125.74857], [-8.827183, -47.86567, -75.4666]]\n",
      "Array{Float32,1}[[-54.348114, 53.44255, -26.874184], [-31.583313, 29.015354, -14.199995]]\n"
     ]
    }
   ],
   "source": [
    "println(layerExample6.(testInput2))\n",
    "println(layerExample7.(testInput2))\n",
    "println(layerExample8.(testInput2))\n",
    "println(Chain(layerExample9...).(testInput2))"
   ]
  },
  {
   "cell_type": "code",
   "execution_count": 97,
   "metadata": {},
   "outputs": [
    {
     "name": "stdout",
     "output_type": "stream",
     "text": [
      "Array{Float32,1}[[81.01882, -51.16385, -14.6287565], [47.735157, -32.752495, -11.39335]]\n",
      "Array{Float32,1}[[1.7693024, 42.105507, 133.95842], [0.7560291, 23.671745, 80.52094]]\n",
      "Array{Float32,1}[[-11.751091, -90.60091, -125.74857], [-8.827183, -47.86567, -75.4666]]\n",
      "Array{Float32,1}[[-54.348114, 53.44255, -26.874184], [-31.583313, 29.015354, -14.199995]]\n"
     ]
    }
   ],
   "source": [
    "println(mapExample6(testInput2))\n",
    "println(mapExample7(testInput2))\n",
    "println(mapExample8(testInput2))\n",
    "println(mapExample9(testInput2))"
   ]
  },
  {
   "cell_type": "markdown",
   "metadata": {},
   "source": [
    "## Parameters are trainable"
   ]
  },
  {
   "cell_type": "code",
   "execution_count": 98,
   "metadata": {},
   "outputs": [
    {
     "name": "stdout",
     "output_type": "stream",
     "text": [
      "(Dense(1, 4), Dense(4, 1))\n",
      "(Dense(1, 4), Dense(4, 4), Dense(4, 1))\n",
      "(Chain(Dense(1, 4), Dense(4, 4)), Dense(4, 4), Dense(4, 1))\n",
      "(Dense(1, 4), Dense(4, 1))\n",
      "(Chain(Dense(1, 4), Dense(4, 4)), Dense(4, 1))\n",
      "(Dense(2, 4), Dense(4, 3))\n",
      "(Dense(2, 4), Dense(4, 4), Dense(4, 3))\n",
      "(Chain(Dense(2, 4), Dense(4, 4)), Dense(4, 4), Dense(4, 3))\n",
      "(Dense(2, 4), Dense(4, 3))\n"
     ]
    }
   ],
   "source": [
    "println(Flux.trainable(layerExample1))\n",
    "println(Flux.trainable(layerExample2))\n",
    "println(Flux.trainable(layerExample3))\n",
    "println(Flux.trainable(layerExample4))\n",
    "println(Flux.trainable(layerExample5))\n",
    "println(Flux.trainable(layerExample6))\n",
    "println(Flux.trainable(layerExample7))\n",
    "println(Flux.trainable(layerExample8))\n",
    "println(Flux.trainable(layerExample9))"
   ]
  },
  {
   "cell_type": "code",
   "execution_count": 99,
   "metadata": {},
   "outputs": [
    {
     "name": "stdout",
     "output_type": "stream",
     "text": [
      "(Chain(Dense(1, 4), Dense(4, 1)),)\n",
      "(Chain(Dense(1, 4), Dense(4, 4), Dense(4, 1)),)\n",
      "(Chain(Chain(Dense(1, 4), Dense(4, 4)), Dense(4, 4), Dense(4, 1)),)\n",
      "(Dense(1, 4), Dense(4, 1))\n",
      "(Chain(Dense(1, 4), Dense(4, 4)), Dense(4, 1))\n",
      "(Chain(Dense(2, 4), Dense(4, 3)),)\n",
      "(Chain(Dense(2, 4), Dense(4, 4), Dense(4, 3)),)\n",
      "(Chain(Chain(Dense(2, 4), Dense(4, 4)), Dense(4, 4), Dense(4, 3)),)\n",
      "(Dense(2, 4), Dense(4, 3))\n"
     ]
    }
   ],
   "source": [
    "println(Flux.trainable(mapExample1))\n",
    "println(Flux.trainable(mapExample2))\n",
    "println(Flux.trainable(mapExample3))\n",
    "println(Flux.trainable(mapExample4))\n",
    "println(Flux.trainable(mapExample5))\n",
    "println(Flux.trainable(mapExample6))\n",
    "println(Flux.trainable(mapExample7))\n",
    "println(Flux.trainable(mapExample8))\n",
    "println(Flux.trainable(mapExample9))"
   ]
  },
  {
   "cell_type": "markdown",
   "metadata": {},
   "source": [
    "## Array comprehension flattening\n",
    "Testing `(a::MapIn)(x::Array{Float32,1}) = broadcast(first, a(map(y -> [y], x)))`"
   ]
  },
  {
   "cell_type": "code",
   "execution_count": 100,
   "metadata": {},
   "outputs": [
    {
     "data": {
      "text/plain": [
       "2-element Array{Float32,1}:\n",
       "  10.0\n",
       " 150.0"
      ]
     },
     "execution_count": 100,
     "metadata": {},
     "output_type": "execute_result"
    }
   ],
   "source": [
    "testInputArray = Float32[10.0, 150.0]"
   ]
  },
  {
   "cell_type": "code",
   "execution_count": 106,
   "metadata": {},
   "outputs": [
    {
     "name": "stdout",
     "output_type": "stream",
     "text": [
      "Array{Float32,1}[[13.179995], [197.69992]]\n",
      "Array{Float32,1}[[-0.22761732], [-3.4142616]]\n",
      "Array{Float32,1}[[4.955084], [74.32627]]\n",
      "Array{Float32,1}[[4.214313], [63.214706]]\n",
      "Array{Float32,1}[[-0.04624009], [-0.6935978]]\n"
     ]
    }
   ],
   "source": [
    "println(mapExample1(testInput))\n",
    "println(mapExample2(testInput))\n",
    "println(mapExample3(testInput))\n",
    "println(mapExample4(testInput))\n",
    "println(mapExample5(testInput))"
   ]
  },
  {
   "cell_type": "code",
   "execution_count": 105,
   "metadata": {},
   "outputs": [
    {
     "name": "stdout",
     "output_type": "stream",
     "text": [
      "Float32[13.179995, 197.69992]\n",
      "Float32[-0.22761732, -3.4142616]\n",
      "Float32[4.955084, 74.32627]\n",
      "Float32[4.214313, 63.214706]\n",
      "Float32[-0.04624009, -0.6935978]\n"
     ]
    }
   ],
   "source": [
    "println(mapExample1(testInputArray))\n",
    "println(mapExample2(testInputArray))\n",
    "println(mapExample3(testInputArray))\n",
    "println(mapExample4(testInputArray))\n",
    "println(mapExample5(testInputArray))"
   ]
  },
  {
   "cell_type": "code",
   "execution_count": 107,
   "metadata": {},
   "outputs": [
    {
     "name": "stdout",
     "output_type": "stream",
     "text": [
      "(Chain(Dense(1, 4), Dense(4, 1)),)\n",
      "(Chain(Dense(1, 4), Dense(4, 4), Dense(4, 1)),)\n",
      "(Chain(Chain(Dense(1, 4), Dense(4, 4)), Dense(4, 4), Dense(4, 1)),)\n",
      "(Dense(1, 4), Dense(4, 1))\n",
      "(Chain(Dense(1, 4), Dense(4, 4)), Dense(4, 1))\n",
      "(Chain(Dense(2, 4), Dense(4, 3)),)\n"
     ]
    }
   ],
   "source": [
    "println(Flux.trainable(mapExample1))\n",
    "println(Flux.trainable(mapExample2))\n",
    "println(Flux.trainable(mapExample3))\n",
    "println(Flux.trainable(mapExample4))\n",
    "println(Flux.trainable(mapExample5))\n",
    "println(Flux.trainable(mapExample6))"
   ]
  },
  {
   "cell_type": "code",
   "execution_count": null,
   "metadata": {},
   "outputs": [],
   "source": []
  }
 ],
 "metadata": {
  "kernelspec": {
   "display_name": "Julia 1.4.1",
   "language": "julia",
   "name": "julia-1.4"
  },
  "language_info": {
   "file_extension": ".jl",
   "mimetype": "application/julia",
   "name": "julia",
   "version": "1.4.1"
  }
 },
 "nbformat": 4,
 "nbformat_minor": 4
}
